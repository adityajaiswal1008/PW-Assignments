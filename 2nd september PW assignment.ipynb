{
 "cells": [
  {
   "cell_type": "markdown",
   "id": "aba8bc2c",
   "metadata": {},
   "source": [
    "#### Question . Write a Python program to print the numbers from 1 to 10 using a `for` loop."
   ]
  },
  {
   "cell_type": "code",
   "execution_count": 2,
   "id": "02752b37",
   "metadata": {},
   "outputs": [
    {
     "name": "stdout",
     "output_type": "stream",
     "text": [
      "0 1 2 3 4 5 6 7 8 9 10 "
     ]
    }
   ],
   "source": [
    "for i in range(0,11):\n",
    "    print(i,end = ' ')\n"
   ]
  },
  {
   "cell_type": "markdown",
   "id": "5d4e788e",
   "metadata": {},
   "source": [
    "#### Question . Create a program that calculates the sum of all numbers in a list using a `for` loop."
   ]
  },
  {
   "cell_type": "code",
   "execution_count": 6,
   "id": "0c2640eb",
   "metadata": {},
   "outputs": [
    {
     "name": "stdout",
     "output_type": "stream",
     "text": [
      "Sum of numbers: 155\n"
     ]
    }
   ],
   "source": [
    "numbers = [5, 10 , 20, 30 , 40 ,50]\n",
    "sum_of_numbers = 0\n",
    "\n",
    "for num in numbers:\n",
    "    sum_of_numbers = sum_of_numbers + num\n",
    "\n",
    "print(\"Sum of numbers:\", sum_of_numbers)\n"
   ]
  },
  {
   "cell_type": "markdown",
   "id": "b67b2625",
   "metadata": {},
   "source": [
    "#### Question . Write a program to print the characters of a string in reverse order using a `for` loop.\n"
   ]
  },
  {
   "cell_type": "code",
   "execution_count": 2,
   "id": "086d5d95",
   "metadata": {},
   "outputs": [
    {
     "name": "stdout",
     "output_type": "stream",
     "text": [
      "Reversed String: aytidA si eman yM\n"
     ]
    }
   ],
   "source": [
    "Input_string = \"My name is Aditya\"\n",
    "\n",
    "reversed_string = \"\"\n",
    "\n",
    "for char in reversed(Input_string):\n",
    "    reversed_string += char\n",
    "\n",
    "\n",
    "print(\"Reversed String:\", reversed_string)\n"
   ]
  },
  {
   "cell_type": "markdown",
   "id": "f5325d37",
   "metadata": {},
   "source": [
    "#### Question . Develop a program that finds the factorial of a given number using a `for` loop."
   ]
  },
  {
   "cell_type": "code",
   "execution_count": 3,
   "id": "7c3f1fd4",
   "metadata": {},
   "outputs": [
    {
     "name": "stdout",
     "output_type": "stream",
     "text": [
      "Enter a number: 5\n",
      "The factorial of 5 is 120\n"
     ]
    }
   ],
   "source": [
    "num = int(input(\"Enter a number: \"))\n",
    "\n",
    "factorial = 1\n",
    "\n",
    "for i in range(1, num + 1):\n",
    "    factorial *= i\n",
    "\n",
    "print(f\"The factorial of {num} is {factorial}\")\n"
   ]
  },
  {
   "cell_type": "markdown",
   "id": "762293de",
   "metadata": {},
   "source": [
    "#### Question .Create a program to print the multiplication table of a given number using a `for` loop."
   ]
  },
  {
   "cell_type": "code",
   "execution_count": 6,
   "id": "d690d600",
   "metadata": {},
   "outputs": [
    {
     "name": "stdout",
     "output_type": "stream",
     "text": [
      "Enter the number: 5\n",
      "Multiplication table for 5:\n",
      "5 x 1 = 5\n",
      "5 x 2 = 10\n",
      "5 x 3 = 15\n",
      "5 x 4 = 20\n",
      "5 x 5 = 25\n",
      "5 x 6 = 30\n",
      "5 x 7 = 35\n",
      "5 x 8 = 40\n",
      "5 x 9 = 45\n",
      "5 x 10 = 50\n"
     ]
    }
   ],
   "source": [
    "number = int(input(\"Enter the number: \"))\n",
    "\n",
    "print(f\"Multiplication table for {number}:\")\n",
    "\n",
    "for i in range(1, 11):\n",
    "    result = number * i\n",
    "    \n",
    "    print(f\"{number} x {i} = {result}\")\n",
    "   "
   ]
  },
  {
   "cell_type": "markdown",
   "id": "152e4c98",
   "metadata": {},
   "source": [
    "#### Question . Write a program to check if a given list contains any duplicates using a `for` loop."
   ]
  },
  {
   "cell_type": "code",
   "execution_count": 9,
   "id": "8de6271e",
   "metadata": {},
   "outputs": [
    {
     "name": "stdout",
     "output_type": "stream",
     "text": [
      "The list contains duplicates.\n"
     ]
    }
   ],
   "source": [
    "# Input list\n",
    "input_list = [1, 2, 3, 4, 5, 2]  # Replace this with your list\n",
    "\n",
    "# Initialize a flag to track duplicates\n",
    "has_duplicates = False\n",
    "\n",
    "# Use a for loop to iterate through the list\n",
    "for i in range(len(input_list)):\n",
    "    for j in range(i + 1, len(input_list)):\n",
    "        if input_list[i] == input_list[j]:\n",
    "            has_duplicates = True\n",
    "            break\n",
    "\n",
    "# Check the flag to determine if duplicates were found\n",
    "if has_duplicates:\n",
    "    print(\"The list contains duplicates.\")\n",
    "else:\n",
    "    print(\"The list does not contain duplicates.\")\n"
   ]
  },
  {
   "cell_type": "markdown",
   "id": "fc5721f2",
   "metadata": {},
   "source": [
    "#### Question . Create a program that prints the prime numbers in a given range using a for loop."
   ]
  },
  {
   "cell_type": "code",
   "execution_count": 2,
   "id": "e5629fb3",
   "metadata": {},
   "outputs": [
    {
     "name": "stdout",
     "output_type": "stream",
     "text": [
      "Enter the range up to which you want to find prime numbers: 20\n",
      "Prime numbers in the range up to 20:\n",
      "2 3 5 7 11 13 17 19 "
     ]
    }
   ],
   "source": [
    "# Input: Range up to which you want to find prime numbers\n",
    "range_num = int(input(\"Enter the range up to which you want to find prime numbers: \"))\n",
    "\n",
    "# Function to check if a number is prime\n",
    "def is_prime(number):\n",
    "    if number < 2:\n",
    "        return False\n",
    "    for i in range(2, int(number**0.5) + 1):\n",
    "        if number % i == 0:\n",
    "            return False\n",
    "    return True\n",
    "\n",
    "# Use a for loop to find and print prime numbers in the range\n",
    "print(f\"Prime numbers in the range up to {range_num}:\")\n",
    "for num in range(2, range_num + 1):\n",
    "    if is_prime(num):\n",
    "        print(num, end=\" \")\n"
   ]
  },
  {
   "cell_type": "markdown",
   "id": "affe42d2",
   "metadata": {},
   "source": [
    "#### Question . Develop a program that prints the first `n` Fibonacci numbers using a `for` loop."
   ]
  },
  {
   "cell_type": "code",
   "execution_count": 5,
   "id": "fc3e6f40",
   "metadata": {},
   "outputs": [
    {
     "name": "stdout",
     "output_type": "stream",
     "text": [
      "Enter the number of Fibonacci numbers to generate: 5\n",
      "The first 5 Fibonacci numbers are:\n",
      "0 1 1 2 3 "
     ]
    }
   ],
   "source": [
    "# Input: Number of Fibonacci numbers to generate\n",
    "n = int(input(\"Enter the number of Fibonacci numbers to generate: \"))\n",
    "\n",
    "# Initialize the first two Fibonacci numbers\n",
    "fibonacci_sequence = [0, 1]\n",
    "\n",
    "# Use a for loop to generate the remaining Fibonacci numbers\n",
    "for i in range(2, n):\n",
    "    next_fibonacci = fibonacci_sequence[i - 1] + fibonacci_sequence[i - 2]\n",
    "    fibonacci_sequence.append(next_fibonacci)\n",
    "\n",
    "# Print the first n Fibonacci numbers\n",
    "print(f\"The first {n} Fibonacci numbers are:\")\n",
    "for num in fibonacci_sequence[:n]:\n",
    "    print(num, end=\" \")\n"
   ]
  },
  {
   "cell_type": "markdown",
   "id": "1eda9bfc",
   "metadata": {},
   "source": [
    "#### Question . Write a program that calculates the average of a list of numbers using a `for` loop."
   ]
  },
  {
   "cell_type": "code",
   "execution_count": 7,
   "id": "3a06c9aa",
   "metadata": {},
   "outputs": [
    {
     "name": "stdout",
     "output_type": "stream",
     "text": [
      "The average of the numbers is: 22.0\n"
     ]
    }
   ],
   "source": [
    "numbers = [5, 10, 15, 55, 25]\n",
    "\n",
    "total = 0\n",
    "count = 0\n",
    "\n",
    "for num in numbers:\n",
    "    total += num\n",
    "    count += 1\n",
    "\n",
    "if count > 0:\n",
    "    average = total / count\n",
    "else:\n",
    "    average = 0\n",
    "\n",
    "print(\"The average of the numbers is:\", average)\n"
   ]
  },
  {
   "cell_type": "code",
   "execution_count": null,
   "id": "993bb377",
   "metadata": {},
   "outputs": [],
   "source": []
  }
 ],
 "metadata": {
  "kernelspec": {
   "display_name": "Python 3 (ipykernel)",
   "language": "python",
   "name": "python3"
  },
  "language_info": {
   "codemirror_mode": {
    "name": "ipython",
    "version": 3
   },
   "file_extension": ".py",
   "mimetype": "text/x-python",
   "name": "python",
   "nbconvert_exporter": "python",
   "pygments_lexer": "ipython3",
   "version": "3.9.17"
  }
 },
 "nbformat": 4,
 "nbformat_minor": 5
}
