{
 "cells": [
  {
   "cell_type": "markdown",
   "id": "e484b251",
   "metadata": {},
   "source": [
    "## String Based Assignment Problem"
   ]
  },
  {
   "cell_type": "markdown",
   "id": "f487707e",
   "metadata": {},
   "source": [
    " ### Write a program to reverse a string.\n"
   ]
  },
  {
   "cell_type": "code",
   "execution_count": 1,
   "id": "95234bb4",
   "metadata": {},
   "outputs": [
    {
     "name": "stdout",
     "output_type": "stream",
     "text": [
      "Enter a string: Hello\n",
      "Reversed string: olleH\n"
     ]
    }
   ],
   "source": [
    "input_string = input(\"Enter a string: \")\n",
    "reversed_string = input_string[::-1]\n",
    "print(\"Reversed string:\", reversed_string)\n"
   ]
  },
  {
   "cell_type": "markdown",
   "id": "8bc8c381",
   "metadata": {},
   "source": [
    "## Check if a string is a palindrome."
   ]
  },
  {
   "cell_type": "code",
   "execution_count": 2,
   "id": "7871b32f",
   "metadata": {},
   "outputs": [
    {
     "name": "stdout",
     "output_type": "stream",
     "text": [
      "Enter a string: Civic\n",
      "The input is a palindrome.\n"
     ]
    }
   ],
   "source": [
    "# Taking input from user\n",
    "input_string = input(\"Enter a string: \")\n",
    "\n",
    "# Remove spaces and convert to lowercase for case-insensitive comparison\n",
    "new_string = input_string.replace(\" \", \"\").lower()\n",
    "\n",
    "# Reverse the new string\n",
    "reversed_string = new_string[::-1]\n",
    "\n",
    "# Check if the original and reversed strings are the same\n",
    "if new_string == reversed_string:\n",
    "    print(\"The input is a palindrome.\")\n",
    "else:\n",
    "    print(\"The input is not a palindrome.\")\n"
   ]
  },
  {
   "cell_type": "markdown",
   "id": "8d766efe",
   "metadata": {},
   "source": [
    "### Convert a string to uppercase."
   ]
  },
  {
   "cell_type": "code",
   "execution_count": 3,
   "id": "cf1f5aae",
   "metadata": {},
   "outputs": [
    {
     "name": "stdout",
     "output_type": "stream",
     "text": [
      "Enter a string: pwskills\n",
      "Uppercase string: PWSKILLS\n"
     ]
    }
   ],
   "source": [
    "input_string = input(\"Enter a string: \")\n",
    "uppercase_string = input_string.upper()\n",
    "print(\"Uppercase string:\", uppercase_string)\n"
   ]
  },
  {
   "cell_type": "markdown",
   "id": "022c320d",
   "metadata": {},
   "source": [
    "### Convert a string to lowercase."
   ]
  },
  {
   "cell_type": "code",
   "execution_count": 4,
   "id": "52446130",
   "metadata": {},
   "outputs": [
    {
     "name": "stdout",
     "output_type": "stream",
     "text": [
      "Enter a string: PwskiLls\n",
      "Lowercase string: pwskills\n"
     ]
    }
   ],
   "source": [
    "input_string = input(\"Enter a string: \")\n",
    "lowercase_string = input_string.lower()\n",
    "print(\"Lowercase string:\", lowercase_string)\n"
   ]
  },
  {
   "cell_type": "markdown",
   "id": "e29ac721",
   "metadata": {},
   "source": [
    "### Count the number of vowels in a string."
   ]
  },
  {
   "cell_type": "code",
   "execution_count": 5,
   "id": "adb674ac",
   "metadata": {},
   "outputs": [
    {
     "name": "stdout",
     "output_type": "stream",
     "text": [
      "Enter a sentence: Beautiful\n",
      "Number of vowels: 5\n"
     ]
    }
   ],
   "source": [
    "# Taking input from the user\n",
    "Character = input(\"Enter a sentence: \")\n",
    "\n",
    "# Initialize a count variable for vowels\n",
    "vowel_count = 0\n",
    "\n",
    "for char in Character:\n",
    "    if char.lower() in 'aeiou':\n",
    "        vowel_count += 1\n",
    "\n",
    "# Print the vowel count\n",
    "print(\"Number of vowels:\", vowel_count)"
   ]
  },
  {
   "cell_type": "markdown",
   "id": "52e46de3",
   "metadata": {},
   "source": [
    "### Count the number of consonants in a string."
   ]
  },
  {
   "cell_type": "code",
   "execution_count": 6,
   "id": "8c132750",
   "metadata": {},
   "outputs": [
    {
     "name": "stdout",
     "output_type": "stream",
     "text": [
      "Enter the string: My name is aditya\n",
      "Numbers of consonants are: 11\n"
     ]
    }
   ],
   "source": [
    "character = input(\"Enter the string: \")\n",
    "vowel = \"aeiou\"\n",
    "count = 0\n",
    "for char in character:\n",
    "    if char.lower() not in vowel:\n",
    "        count +=1\n",
    "        \n",
    "print(\"Numbers of consonants are:\" , count)        \n",
    "        "
   ]
  },
  {
   "cell_type": "markdown",
   "id": "c0d61084",
   "metadata": {},
   "source": [
    "### Remove all whitespaces from a string."
   ]
  },
  {
   "cell_type": "code",
   "execution_count": 7,
   "id": "19fda9f4",
   "metadata": {},
   "outputs": [
    {
     "name": "stdout",
     "output_type": "stream",
     "text": [
      "Enter the string :  My name is Aditya\n",
      "New string is : MynameisAditya\n"
     ]
    }
   ],
   "source": [
    "Character = input(\"Enter the string :  \")\n",
    "\n",
    "new_string = Character.replace(\" \",\"\")\n",
    "print( \"New string is :\" , new_string)"
   ]
  },
  {
   "cell_type": "markdown",
   "id": "f820da33",
   "metadata": {},
   "source": [
    "### Find the length of a string without using the `len()` function."
   ]
  },
  {
   "cell_type": "code",
   "execution_count": 8,
   "id": "43d914df",
   "metadata": {},
   "outputs": [
    {
     "name": "stdout",
     "output_type": "stream",
     "text": [
      "Enter a string: Hello Everyone\n",
      "The length of the string is: 14\n"
     ]
    }
   ],
   "source": [
    "# Taking input from user\n",
    "input_str = input(\"Enter a string: \")\n",
    "\n",
    "# Calculate and display the length of the string\n",
    "length = len(input_str)\n",
    "print(\"The length of the string is:\", length)\n"
   ]
  },
  {
   "cell_type": "markdown",
   "id": "7dbad893",
   "metadata": {},
   "source": [
    "### Check if a string contains a specific word."
   ]
  },
  {
   "cell_type": "code",
   "execution_count": 9,
   "id": "15391589",
   "metadata": {},
   "outputs": [
    {
     "name": "stdout",
     "output_type": "stream",
     "text": [
      "Enter the string:  Pwskills is very good platform to enhance your skills, Pwskills is best .\n",
      "The string does contain the word .\n"
     ]
    }
   ],
   "source": [
    "My_string = input(\"Enter the string:  \")\n",
    "specific_word_is = \"Hello\"\n",
    "if specific_word_is in My_string:\n",
    "    print(\"The string contains the specific word.\")\n",
    "else :\n",
    "    print(\"The string does contain the word .\")"
   ]
  },
  {
   "cell_type": "markdown",
   "id": "725e0664",
   "metadata": {},
   "source": [
    "### Replace a word in a string with another word."
   ]
  },
  {
   "cell_type": "code",
   "execution_count": 10,
   "id": "2fa3d771",
   "metadata": {},
   "outputs": [
    {
     "name": "stdout",
     "output_type": "stream",
     "text": [
      "Enter the string : Pwskills is very good platform to enhance your skills, Pwskills is best .\n",
      "Enter the word to be replaced: good\n",
      "Enter the replacement word: Best\n",
      "New string is : Pwskills is very Best platform to enhance your skills, Pwskills is best .\n"
     ]
    }
   ],
   "source": [
    "My_string = input(\"Enter the string : \")\n",
    "word1 = input(\"Enter the word to be replaced: \")\n",
    "word2 = input (\"Enter the replacement word: \")\n",
    "\n",
    "new_string = My_string.replace(word1 , word2 )\n",
    "print(\"New string is :\" , new_string)"
   ]
  },
  {
   "cell_type": "markdown",
   "id": "46c8aa19",
   "metadata": {},
   "source": [
    "\n",
    "\n",
    "### Count the occurrences of a word in a string."
   ]
  },
  {
   "cell_type": "code",
   "execution_count": 11,
   "id": "a64f9035",
   "metadata": {},
   "outputs": [
    {
     "name": "stdout",
     "output_type": "stream",
     "text": [
      "Enter the string: Pwskills is very good platform to enhance your skills, Pwskills is best .\n",
      "Enter the word to find: Pwskills\n",
      "The word 'Pwskills' first occurs at index 0.\n"
     ]
    }
   ],
   "source": [
    "My_string = input(\"Enter the string: \")\n",
    "target_word = input(\"Enter the word to find: \")\n",
    "\n",
    "index = My_string.find(target_word)\n",
    "\n",
    "if index != -1:\n",
    "    print(f\"The word '{target_word}' first occurs at index {index}.\")\n",
    "else:\n",
    "    print(f\"The word '{target_word}' was not found in the string.\")\n"
   ]
  },
  {
   "cell_type": "markdown",
   "id": "768ae7c6",
   "metadata": {},
   "source": [
    "### Find the last occurrence of a word in a string."
   ]
  },
  {
   "cell_type": "code",
   "execution_count": 18,
   "id": "020f32f6",
   "metadata": {},
   "outputs": [
    {
     "name": "stdout",
     "output_type": "stream",
     "text": [
      "Enter the string: Pwskills is very good platform to enhance your skills, Pwskills is best .\n",
      "Enter the word to find: your\n",
      "The word 'your' last occurs at index 42.\n"
     ]
    }
   ],
   "source": [
    "My_string = input(\"Enter the string: \")\n",
    "target_word = input(\"Enter the word to find: \")\n",
    "\n",
    "index = My_string.rfind(target_word)\n",
    "\n",
    "if index != -1:\n",
    "    print(f\"The word '{target_word}' last occurs at index {index}.\")\n",
    "else:\n",
    "    print(f\"The word '{target_word}' was not found in the string.\")\n",
    "\n",
    "    "
   ]
  },
  {
   "cell_type": "markdown",
   "id": "09f0a00c",
   "metadata": {},
   "source": [
    "## List Based Practice Problem"
   ]
  },
  {
   "cell_type": "markdown",
   "id": "c22faa64",
   "metadata": {},
   "source": [
    "### Create a list with integers from 1 to 10."
   ]
  },
  {
   "cell_type": "code",
   "execution_count": 20,
   "id": "7d3c7e87",
   "metadata": {},
   "outputs": [
    {
     "name": "stdout",
     "output_type": "stream",
     "text": [
      "[1, 2, 3, 4, 5, 6, 7, 8, 9, 10]\n"
     ]
    }
   ],
   "source": [
    "list1 = list(range(1, 11))\n",
    "print(list1)\n"
   ]
  },
  {
   "cell_type": "markdown",
   "id": "f7f6e3f8",
   "metadata": {},
   "source": [
    "### Append an element to the end of a list."
   ]
  },
  {
   "cell_type": "code",
   "execution_count": 21,
   "id": "15d08342",
   "metadata": {},
   "outputs": [
    {
     "name": "stdout",
     "output_type": "stream",
     "text": [
      "[1, 2, 3, 4, 5, 6, 7, 8, 'Aditya']\n"
     ]
    }
   ],
   "source": [
    "My_list = [1,2,3,4,5,6,7,8]\n",
    "new_element = \"Aditya\"\n",
    "\n",
    "My_list.append(new_element)\n",
    "print(My_list)"
   ]
  },
  {
   "cell_type": "markdown",
   "id": "6da5867f",
   "metadata": {},
   "source": [
    "### Remove an element from a list by its value."
   ]
  },
  {
   "cell_type": "code",
   "execution_count": 22,
   "id": "228453fd",
   "metadata": {},
   "outputs": [
    {
     "name": "stdout",
     "output_type": "stream",
     "text": [
      "[1, 2, 4, 5, 6, 7, 8]\n"
     ]
    }
   ],
   "source": [
    "my_list = [1, 2, 3, 4, 5,6,7,8]\n",
    "#element to remove is 3\n",
    "element = 3\n",
    "\n",
    "my_list.remove(element)\n",
    "\n",
    "print(my_list)\n"
   ]
  },
  {
   "cell_type": "markdown",
   "id": "0561b76c",
   "metadata": {},
   "source": [
    "### Create a list of even numbers from 1 to 20."
   ]
  },
  {
   "cell_type": "code",
   "execution_count": 1,
   "id": "5bff5a30",
   "metadata": {},
   "outputs": [
    {
     "name": "stdout",
     "output_type": "stream",
     "text": [
      "[2, 4, 6, 8, 10, 12, 14, 16, 18, 20]\n"
     ]
    }
   ],
   "source": [
    "list_even_numbers = [num for num in range(2, 21, 2)]\n",
    "print(list_even_numbers)\n"
   ]
  },
  {
   "cell_type": "markdown",
   "id": "6d1ef6f1",
   "metadata": {},
   "source": [
    "### Rotate a list to the left by `n` positions."
   ]
  },
  {
   "cell_type": "code",
   "execution_count": 2,
   "id": "043eb1c3",
   "metadata": {},
   "outputs": [
    {
     "name": "stdout",
     "output_type": "stream",
     "text": [
      "Enter the number of positions to rotate: 5\n",
      "[6, 7, 8, 9, 10, 1, 2, 3, 4, 5]\n"
     ]
    }
   ],
   "source": [
    "n = int(input(\"Enter the number of positions to rotate: \"))\n",
    "my_list = [1, 2, 3, 4, 5, 6, 7, 8, 9, 10]\n",
    "\n",
    "n = n % len(my_list)  # Ensure n is within the range of list length\n",
    "\n",
    "rotated_list = my_list[n:] + my_list[:n]\n",
    "print(rotated_list)\n"
   ]
  },
  {
   "cell_type": "markdown",
   "id": "8861eb50",
   "metadata": {},
   "source": [
    "### Swap two elements in a list by their indices."
   ]
  },
  {
   "cell_type": "code",
   "execution_count": 3,
   "id": "acdc0248",
   "metadata": {},
   "outputs": [
    {
     "name": "stdout",
     "output_type": "stream",
     "text": [
      "Enter the index of the first element to swap: 2\n",
      "Enter the index of the second element to swap: 3\n",
      "List after swapping: [10, 20, 40, 30, 50]\n"
     ]
    }
   ],
   "source": [
    "my_list = [10, 20, 30, 40, 50]\n",
    "\n",
    "index1 = int(input(\"Enter the index of the first element to swap: \"))\n",
    "index2 = int(input(\"Enter the index of the second element to swap: \"))\n",
    "\n",
    "if 0 <= index1 < len(my_list) and 0 <= index2 < len(my_list):\n",
    "    my_list[index1], my_list[index2] = my_list[index2], my_list[index1]\n",
    "    print(\"List after swapping:\", my_list)\n",
    "else:\n",
    "    print(\"Invalid indices entered.\")\n"
   ]
  },
  {
   "cell_type": "markdown",
   "id": "de605fca",
   "metadata": {},
   "source": [
    "## Tuple Based Practice Problem"
   ]
  },
  {
   "cell_type": "markdown",
   "id": "bc145af0",
   "metadata": {},
   "source": [
    "### Create a tuple with integers from 1 to 5."
   ]
  },
  {
   "cell_type": "code",
   "execution_count": 4,
   "id": "8435f252",
   "metadata": {},
   "outputs": [
    {
     "name": "stdout",
     "output_type": "stream",
     "text": [
      "(1, 2, 3, 4, 5)\n"
     ]
    }
   ],
   "source": [
    "Tuple = (1, 2, 3, 4, 5)\n",
    "print(Tuple)\n"
   ]
  },
  {
   "cell_type": "markdown",
   "id": "af2683e9",
   "metadata": {},
   "source": [
    "### Access the third element of a tuple."
   ]
  },
  {
   "cell_type": "code",
   "execution_count": 5,
   "id": "516e775c",
   "metadata": {},
   "outputs": [
    {
     "name": "stdout",
     "output_type": "stream",
     "text": [
      "3\n"
     ]
    }
   ],
   "source": [
    "my_tuple = (1, 2, 3, 4, 5)\n",
    "third_element = my_tuple[2]\n",
    "print(third_element)\n"
   ]
  },
  {
   "cell_type": "markdown",
   "id": "fe0141ac",
   "metadata": {},
   "source": [
    "### Find the length of a tuple without using the `len()` function."
   ]
  },
  {
   "cell_type": "code",
   "execution_count": 7,
   "id": "00be88e1",
   "metadata": {},
   "outputs": [
    {
     "name": "stdout",
     "output_type": "stream",
     "text": [
      "Length of the tuple: 5\n"
     ]
    }
   ],
   "source": [
    "my_tuple = (1, 2, 3, 4, 5)\n",
    "length = 0\n",
    "\n",
    "for _ in my_tuple:\n",
    "    length += 1\n",
    "\n",
    "print(\"Length of the tuple:\", length)\n"
   ]
  },
  {
   "cell_type": "markdown",
   "id": "608d933b",
   "metadata": {},
   "source": [
    "### Count the occurrences of an element in a tuple."
   ]
  },
  {
   "cell_type": "code",
   "execution_count": 8,
   "id": "41d36b10",
   "metadata": {},
   "outputs": [
    {
     "name": "stdout",
     "output_type": "stream",
     "text": [
      "The element 3 appears 5 times in the tuple.\n"
     ]
    }
   ],
   "source": [
    "my_tuple = (1, 3, 3, 3, 4, 3, 5, 3)\n",
    "element_to_count = 3\n",
    "\n",
    "count = 0\n",
    "\n",
    "for item in my_tuple:\n",
    "    if item == element_to_count:\n",
    "        count += 1\n",
    "\n",
    "print(f\"The element {element_to_count} appears {count} times in the tuple.\")\n"
   ]
  },
  {
   "cell_type": "markdown",
   "id": "10d0dc5b",
   "metadata": {},
   "source": [
    "### Find the index of the first occurrence of an element in a tuple."
   ]
  },
  {
   "cell_type": "code",
   "execution_count": 9,
   "id": "df7dfb27",
   "metadata": {},
   "outputs": [
    {
     "name": "stdout",
     "output_type": "stream",
     "text": [
      "The first occurrence of 20 is at index 1.\n"
     ]
    }
   ],
   "source": [
    "my_tuple = (10, 20, 30, 20, 40, 50)\n",
    "element_to_find = 20\n",
    "\n",
    "index = my_tuple.index(element_to_find)\n",
    "\n",
    "print(f\"The first occurrence of {element_to_find} is at index {index}.\")\n"
   ]
  },
  {
   "cell_type": "markdown",
   "id": "9f426eec",
   "metadata": {},
   "source": [
    "### Convert a tuple to a list."
   ]
  },
  {
   "cell_type": "code",
   "execution_count": 10,
   "id": "ccfff8ab",
   "metadata": {},
   "outputs": [
    {
     "name": "stdout",
     "output_type": "stream",
     "text": [
      "[1, 2, 3, 4, 5, 6, 7, 8]\n"
     ]
    }
   ],
   "source": [
    "my_tuple = (1, 2, 3, 4, 5 ,6, 7, 8)\n",
    "my_list = list(my_tuple)\n",
    "\n",
    "print(my_list)\n"
   ]
  },
  {
   "cell_type": "markdown",
   "id": "5542cad4",
   "metadata": {},
   "source": [
    "### Convert a list to a tuple."
   ]
  },
  {
   "cell_type": "code",
   "execution_count": 11,
   "id": "a6784cfe",
   "metadata": {},
   "outputs": [
    {
     "name": "stdout",
     "output_type": "stream",
     "text": [
      "(1, 2, 3, 4, 5, 6, 7, 8, 99, 9)\n"
     ]
    }
   ],
   "source": [
    "_list = [1,2,3,4,5,6,7,8,99,9]\n",
    "my_tuple = tuple(_list)\n",
    "print (my_tuple)"
   ]
  },
  {
   "cell_type": "markdown",
   "id": "1b84747f",
   "metadata": {},
   "source": [
    "### Create a tuple of even numbers from 1 to 10."
   ]
  },
  {
   "cell_type": "code",
   "execution_count": 12,
   "id": "c165dd45",
   "metadata": {},
   "outputs": [
    {
     "name": "stdout",
     "output_type": "stream",
     "text": [
      "[2, 4, 6, 8, 10]\n"
     ]
    }
   ],
   "source": [
    "my_tuple = [ num for num in range (2,11,2)]\n",
    "print(my_tuple)"
   ]
  },
  {
   "cell_type": "markdown",
   "id": "abfed9ae",
   "metadata": {},
   "source": [
    "### Create a tuple of odd numbers from 1 to 10."
   ]
  },
  {
   "cell_type": "code",
   "execution_count": 14,
   "id": "84826d84",
   "metadata": {},
   "outputs": [
    {
     "name": "stdout",
     "output_type": "stream",
     "text": [
      "(1, 3, 5, 7, 9)\n"
     ]
    }
   ],
   "source": [
    "odd_numbers = tuple(range(1, 11, 2))\n",
    "print(odd_numbers)\n"
   ]
  },
  {
   "cell_type": "markdown",
   "id": "e8c2a533",
   "metadata": {},
   "source": [
    "### Concatenate two tuples."
   ]
  },
  {
   "cell_type": "code",
   "execution_count": 16,
   "id": "2bde2329",
   "metadata": {},
   "outputs": [
    {
     "name": "stdout",
     "output_type": "stream",
     "text": [
      "('Aditya', 1, 2, 3, 4, 'Jaiswal', 1, 2, 3, 4)\n"
     ]
    }
   ],
   "source": [
    "my_tuple1 = (\"Aditya\" , 1,2,3,4)\n",
    "my_tuple2 = (\"Jaiswal\",1,2,3,4)\n",
    "my_tuple = my_tuple1 + my_tuple2\n",
    "print(my_tuple)"
   ]
  },
  {
   "cell_type": "markdown",
   "id": "df72445b",
   "metadata": {},
   "source": [
    "### Repeat a tuple three times."
   ]
  },
  {
   "cell_type": "code",
   "execution_count": 17,
   "id": "980bca7d",
   "metadata": {},
   "outputs": [
    {
     "name": "stdout",
     "output_type": "stream",
     "text": [
      "(99, 22, 44, 55, 45, 33, 99, 22, 44, 55, 45, 33, 99, 22, 44, 55, 45, 33)\n"
     ]
    }
   ],
   "source": [
    "my_tuple = (99,22,44,55,45,33)\n",
    "my_tuple1 = my_tuple * 3\n",
    "print(my_tuple1)"
   ]
  },
  {
   "cell_type": "markdown",
   "id": "a173c9a8",
   "metadata": {},
   "source": [
    "### Create a nested tuple."
   ]
  },
  {
   "cell_type": "code",
   "execution_count": 19,
   "id": "eae27c74",
   "metadata": {},
   "outputs": [
    {
     "name": "stdout",
     "output_type": "stream",
     "text": [
      "((1, 2, 4, 5, 6, 3), (4, 5, 6), (7, 8, 9))\n"
     ]
    }
   ],
   "source": [
    "_tuple = ((1, 2,4,5,6, 3), (4, 5, 6), (7, 8, 9))\n",
    "print(_tuple)\n"
   ]
  },
  {
   "cell_type": "markdown",
   "id": "23b3c0d7",
   "metadata": {},
   "source": [
    "### Access the first element of a nested tuple."
   ]
  },
  {
   "cell_type": "code",
   "execution_count": 21,
   "id": "f82cc495",
   "metadata": {},
   "outputs": [
    {
     "name": "stdout",
     "output_type": "stream",
     "text": [
      "88\n"
     ]
    }
   ],
   "source": [
    "nested_tuple = ((88, 2, 3), (4, 5, 6), (7, 8, 9))\n",
    "first_inner_tuple = nested_tuple[0]\n",
    "first_element = first_inner_tuple[0]\n",
    "print(first_element)\n"
   ]
  },
  {
   "cell_type": "markdown",
   "id": "d7e09818",
   "metadata": {},
   "source": [
    "### Create a tuple with a single element."
   ]
  },
  {
   "cell_type": "code",
   "execution_count": 24,
   "id": "ebdc4647",
   "metadata": {},
   "outputs": [
    {
     "name": "stdout",
     "output_type": "stream",
     "text": [
      "56\n"
     ]
    }
   ],
   "source": [
    "My_tuple = (56)\n",
    "print(My_tuple)"
   ]
  },
  {
   "cell_type": "markdown",
   "id": "31095eec",
   "metadata": {},
   "source": [
    "### Compare two tuples."
   ]
  },
  {
   "cell_type": "code",
   "execution_count": 25,
   "id": "cf23f6de",
   "metadata": {},
   "outputs": [
    {
     "name": "stdout",
     "output_type": "stream",
     "text": [
      "tuple1 is less than tuple2\n"
     ]
    }
   ],
   "source": [
    "tuple1 = (1, 2, 3)\n",
    "tuple2 = (1, 2, 4)\n",
    "\n",
    "if tuple1 < tuple2:\n",
    "    print(\"tuple1 is less than tuple2\")\n",
    "elif tuple1 > tuple2:\n",
    "    print(\"tuple1 is greater than tuple2\")\n",
    "else:\n",
    "    print(\"tuple1 is equal to tuple2\")\n"
   ]
  },
  {
   "cell_type": "markdown",
   "id": "44eb4209",
   "metadata": {},
   "source": [
    "## Set Based Practice Problem"
   ]
  },
  {
   "cell_type": "markdown",
   "id": "6ef0637c",
   "metadata": {},
   "source": [
    "### Create a set with integers from 1 to 5."
   ]
  },
  {
   "cell_type": "code",
   "execution_count": 26,
   "id": "90dc8345",
   "metadata": {},
   "outputs": [
    {
     "name": "stdout",
     "output_type": "stream",
     "text": [
      "{1, 2, 3, 4, 5}\n"
     ]
    }
   ],
   "source": [
    "set1 = { 1,2,3,4,5,5,2}\n",
    "print(set1)"
   ]
  },
  {
   "cell_type": "markdown",
   "id": "3f8a01c8",
   "metadata": {},
   "source": [
    "### Add an element to a set."
   ]
  },
  {
   "cell_type": "code",
   "execution_count": 29,
   "id": "0728d655",
   "metadata": {},
   "outputs": [
    {
     "name": "stdout",
     "output_type": "stream",
     "text": [
      "{1, 2, 3, 4, 5, 990}\n"
     ]
    }
   ],
   "source": [
    "My_set = { 1,2,3,4,4,5}\n",
    "new_element = 990\n",
    " \n",
    "My_set.add(new_element)\n",
    "print(My_set)"
   ]
  },
  {
   "cell_type": "markdown",
   "id": "eee1f909",
   "metadata": {},
   "source": [
    "### Create a set from user input."
   ]
  },
  {
   "cell_type": "code",
   "execution_count": 34,
   "id": "9f4d7bb9",
   "metadata": {},
   "outputs": [
    {
     "name": "stdout",
     "output_type": "stream",
     "text": [
      "Enter elements separated by spaces: 22 33 45 66 889 0\n",
      "Set: {'33', '22', '0', '889', '66', '45'}\n"
     ]
    }
   ],
   "source": [
    "user_input = input(\"Enter elements separated by spaces: \")\n",
    "user_list = user_input.split()\n",
    "\n",
    "user_set = set(user_list)\n",
    "\n",
    "print(\"Set:\", user_set)\n"
   ]
  },
  {
   "cell_type": "markdown",
   "id": "7fc11269",
   "metadata": {},
   "source": [
    "### Create a set from a list."
   ]
  },
  {
   "cell_type": "code",
   "execution_count": 35,
   "id": "40ead70c",
   "metadata": {},
   "outputs": [
    {
     "name": "stdout",
     "output_type": "stream",
     "text": [
      "{1, 2, 3, 4, 5}\n"
     ]
    }
   ],
   "source": [
    "my_list = [1, 2, 3, 2, 4, 5, 4]\n",
    "my_set = set(my_list)\n",
    "\n",
    "print(my_set) \n"
   ]
  },
  {
   "cell_type": "markdown",
   "id": "7bcc05be",
   "metadata": {},
   "source": [
    "### Clear all elements from a set."
   ]
  },
  {
   "cell_type": "code",
   "execution_count": 36,
   "id": "520671ab",
   "metadata": {},
   "outputs": [
    {
     "name": "stdout",
     "output_type": "stream",
     "text": [
      "set()\n"
     ]
    }
   ],
   "source": [
    "my_set = {1, 2, 3, 4, 5}\n",
    "my_set.clear()\n",
    "\n",
    "print(my_set) \n"
   ]
  },
  {
   "cell_type": "code",
   "execution_count": null,
   "id": "2e04f692",
   "metadata": {},
   "outputs": [],
   "source": []
  }
 ],
 "metadata": {
  "kernelspec": {
   "display_name": "Python 3 (ipykernel)",
   "language": "python",
   "name": "python3"
  },
  "language_info": {
   "codemirror_mode": {
    "name": "ipython",
    "version": 3
   },
   "file_extension": ".py",
   "mimetype": "text/x-python",
   "name": "python",
   "nbconvert_exporter": "python",
   "pygments_lexer": "ipython3",
   "version": "3.9.17"
  }
 },
 "nbformat": 4,
 "nbformat_minor": 5
}
