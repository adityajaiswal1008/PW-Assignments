{
 "cells": [
  {
   "cell_type": "markdown",
   "id": "b8e1b69f",
   "metadata": {},
   "source": [
    "## Control flow"
   ]
  },
  {
   "cell_type": "markdown",
   "id": "0da39737",
   "metadata": {},
   "source": [
    "#### Question 1 Write a Python program to check if a given number is positive or negative."
   ]
  },
  {
   "cell_type": "code",
   "execution_count": 1,
   "id": "7eb78320",
   "metadata": {},
   "outputs": [
    {
     "name": "stdout",
     "output_type": "stream",
     "text": [
      "Enter the number :  13\n",
      "Number is Positive\n"
     ]
    }
   ],
   "source": [
    "Number = int( input(\"Enter the number :  \"))\n",
    "if (Number>=0):\n",
    "    if (Number == 0):\n",
    "        print(\"Number is Zero\")\n",
    "    else: \n",
    "        print(\"Number is Positive\")\n",
    "else:\n",
    "    print(\"Number is Negative\")"
   ]
  },
  {
   "cell_type": "markdown",
   "id": "5ff75e47",
   "metadata": {},
   "source": [
    "#### Question2. Create a program that determines if a person is eligible to vote based on their age."
   ]
  },
  {
   "cell_type": "code",
   "execution_count": 2,
   "id": "f4f0bdba",
   "metadata": {},
   "outputs": [
    {
     "name": "stdout",
     "output_type": "stream",
     "text": [
      "Enter your age :  27\n",
      "You are eligible to vote\n"
     ]
    }
   ],
   "source": [
    "Age = int(input(\"Enter your age :  \"))\n",
    "if (Age >= 18):\n",
    "    print(\"You are eligible to vote\")\n",
    "else:\n",
    "    print(\"You are not eligible to vote\")"
   ]
  },
  {
   "cell_type": "markdown",
   "id": "6eebd25b",
   "metadata": {},
   "source": [
    "#### Question 3 . Develop a program to find the maximum of two numbers using if-else statements."
   ]
  },
  {
   "cell_type": "code",
   "execution_count": 3,
   "id": "eacc7d06",
   "metadata": {},
   "outputs": [
    {
     "name": "stdout",
     "output_type": "stream",
     "text": [
      "Enter the first number:  33\n",
      "Enter the second number:  4\n",
      "Largest number is Num1 33\n"
     ]
    }
   ],
   "source": [
    "Num1 = int(input(\"Enter the first number:  \"))\n",
    "Num2 = int(input(\"Enter the second number:  \"))\n",
    "if(Num1>Num2):\n",
    "    largest = Num1\n",
    "    print(\"Largest number is Num1\", largest)\n",
    "else:\n",
    "    largest = Num2\n",
    "    print(\"Largest number is Num2\" , largest)"
   ]
  },
  {
   "cell_type": "markdown",
   "id": "735f5663",
   "metadata": {},
   "source": [
    "#### Question 4 . Write a Python script to classify a given year as a leap year or not."
   ]
  },
  {
   "cell_type": "code",
   "execution_count": 4,
   "id": "ae364025",
   "metadata": {},
   "outputs": [
    {
     "name": "stdout",
     "output_type": "stream",
     "text": [
      "Enter the year to be checked :  2024\n",
      "The year is leap year\n"
     ]
    }
   ],
   "source": [
    "Year = int(input(\"Enter the year to be checked :  \"))\n",
    "if (Year%4 == 0):\n",
    "    print(\"The year is leap year\")\n",
    "else: \n",
    "    print(\"The year is not a leap year\")"
   ]
  },
  {
   "cell_type": "markdown",
   "id": "cd377a68",
   "metadata": {},
   "source": [
    "#### Question 5 . Create a program that checks whether a character is a vowel or a consonant."
   ]
  },
  {
   "cell_type": "code",
   "execution_count": 5,
   "id": "7f2f1723",
   "metadata": {},
   "outputs": [
    {
     "name": "stdout",
     "output_type": "stream",
     "text": [
      "Enter the Charactera\n",
      "The entered character is vowel\n"
     ]
    }
   ],
   "source": [
    "Char = input(\"Enter the Character\")\n",
    "Char= Char.lower()\n",
    "i = \"a,e,i,o,u\"\n",
    "if Char in i:\n",
    "    print(\"The entered character is vowel\")\n",
    "else:\n",
    "    print (\"The entered character is consonent\")"
   ]
  },
  {
   "cell_type": "markdown",
   "id": "d195870f",
   "metadata": {},
   "source": [
    "#### Question 11 .Write a program to find the largest among three numbers using nested if-else statements."
   ]
  },
  {
   "cell_type": "code",
   "execution_count": 6,
   "id": "544b56cd",
   "metadata": {},
   "outputs": [
    {
     "name": "stdout",
     "output_type": "stream",
     "text": [
      "Enter the first number ; 23\n",
      "Enter the second number ; 33\n",
      "Enter the third number ;  44\n",
      "The largest number is   44\n"
     ]
    }
   ],
   "source": [
    "Num1 = int(input(\"Enter the first number ; \"))\n",
    "Num2 = int(input(\"Enter the second number ; \"))\n",
    "Num3 = int(input(\"Enter the third number ;  \"))\n",
    "if (Num1>Num2):\n",
    "    if(Num1>Num3):\n",
    "        largest = Num1\n",
    "    else:\n",
    "        largest = Num3\n",
    "else:\n",
    "    if (Num2>Num1):\n",
    "        if(Num2>Num3):\n",
    "            largest = Num2\n",
    "        else:\n",
    "            largest = Num3\n",
    "\n",
    "print(\"The largest number is  \" , largest)            \n",
    "    \n",
    "    "
   ]
  },
  {
   "cell_type": "markdown",
   "id": "a34c1040",
   "metadata": {},
   "source": [
    "#### Question 12. Implement a program to determine if a triangle is equilateral, isosceles, or scalene."
   ]
  },
  {
   "cell_type": "code",
   "execution_count": 7,
   "id": "2d7b401d",
   "metadata": {},
   "outputs": [
    {
     "name": "stdout",
     "output_type": "stream",
     "text": [
      "Enter the length of first side : 34\n",
      "Enter the length of second side : 55\n",
      "Enter the length of third side : 43\n",
      "It is a scalene triangle.\n"
     ]
    }
   ],
   "source": [
    "side1 = int(input(\"Enter the length of first side : \"))\n",
    "side2 = int(input(\"Enter the length of second side : \"))\n",
    "side3 = int(input(\"Enter the length of third side : \"))\n",
    "if side1 + side2 > side3 and side1 + side3 > side2 and side2 + side3 > side1:\n",
    "    # Check if it's equilateral (all sides are equal)\n",
    "    if side1 == side2 == side3:\n",
    "        print(\"It is an equilateral triangle.\")\n",
    "    # Check if it's isosceles (at least two sides are equal)\n",
    "    elif side1 == side2 or side1 == side3 or side2 == side3:\n",
    "        print(\"It is an isosceles triangle.\")\n",
    "    # If it's not equilateral or isosceles, it's scalene\n",
    "    else:\n",
    "        print(\"It is a scalene triangle.\")\n",
    "else:\n",
    "    print(\"It is not a valid triangle.\")"
   ]
  },
  {
   "cell_type": "markdown",
   "id": "ec52d830",
   "metadata": {},
   "source": [
    "#### Question 15 . Create a program to check if a person is a teenager (between 13 and 19 years old)."
   ]
  },
  {
   "cell_type": "code",
   "execution_count": 8,
   "id": "8e7adc96",
   "metadata": {},
   "outputs": [
    {
     "name": "stdout",
     "output_type": "stream",
     "text": [
      "Enter your age:  15\n",
      "You are not a teenager \n"
     ]
    }
   ],
   "source": [
    "Age = int(input(\"Enter your age:  \"))\n",
    "if (Age>=13) and (Age<=19):\n",
    "    print(\"You are not a teenager \")\n",
    "else:\n",
    "    print(\"You are not a teenager \")"
   ]
  },
  {
   "cell_type": "markdown",
   "id": "cce38719",
   "metadata": {},
   "source": [
    "#### Question 18. Implement a program to determine the day of the week based on a user-provided number (1 for Monday, 2\n",
    "for Tuesday, etc.)."
   ]
  },
  {
   "cell_type": "code",
   "execution_count": 2,
   "id": "4cb370cc",
   "metadata": {},
   "outputs": [
    {
     "name": "stdout",
     "output_type": "stream",
     "text": [
      "Enter a number (1 for Monday, 2 for Tuesday, etc.): 5\n",
      "The day of the week for 5 is Friday.\n"
     ]
    }
   ],
   "source": [
    "days_of_week = {\n",
    "    1: \"Monday\",\n",
    "    2: \"Tuesday\",\n",
    "    3: \"Wednesday\",\n",
    "    4: \"Thursday\",\n",
    "    5: \"Friday\",\n",
    "    6: \"Saturday\",\n",
    "    7: \"Sunday\"\n",
    "}\n",
    "\n",
    "\n",
    "user_input = int(input(\"Enter a number (1 for Monday, 2 for Tuesday, etc.): \"))\n",
    "\n",
    "if user_input >= 1 and user_input <= 7:\n",
    "    day = days_of_week[user_input]\n",
    "    print(f\"The day of the week for {user_input} is {day}.\")\n",
    "else:\n",
    "    print(\"Invalid input. Please enter a number between 1 and 7.\")"
   ]
  },
  {
   "cell_type": "markdown",
   "id": "4b305693",
   "metadata": {},
   "source": [
    "#### Question 19. Create a program that determines if a year is a leap year and also if it is evenly divisible by 400."
   ]
  },
  {
   "cell_type": "code",
   "execution_count": 8,
   "id": "c82b1b8e",
   "metadata": {},
   "outputs": [
    {
     "name": "stdout",
     "output_type": "stream",
     "text": [
      "Enter the year : 2024\n",
      "The year is leap year but not evenly divisible by 400\n"
     ]
    }
   ],
   "source": [
    "Year = int(input(\"Enter the year : \"))\n",
    "if (Year%4 == 0):\n",
    "    if (Year%400 ==0):\n",
    "        print (\"The year is leap year and divisible by 400\")\n",
    "    else:\n",
    "        print(\"The year is leap year but not evenly divisible by 400\")\n",
    "        \n",
    "else:\n",
    "        print(\"The year is not a leap year\")\n",
    "    "
   ]
  },
  {
   "cell_type": "markdown",
   "id": "34e5890c",
   "metadata": {},
   "source": [
    "#### Question. Write a Python program to assign grades based on different ranges of scores using elif statements."
   ]
  },
  {
   "cell_type": "code",
   "execution_count": 11,
   "id": "f727ee44",
   "metadata": {},
   "outputs": [
    {
     "name": "stdout",
     "output_type": "stream",
     "text": [
      "Enter your score: 65\n",
      "Grades assigned to you is C \n"
     ]
    }
   ],
   "source": [
    "score = int(input(\"Enter your score: \"))\n",
    "if (score>=90):\n",
    "    print(\"Grades assigned to you is A+\")\n",
    "elif(score>=80):\n",
    "    print(\"Grades assigned to you is A\")\n",
    "elif(score>=70):\n",
    "    print(\"Grades assigned to you is B\")\n",
    "else:\n",
    "    print(\"Grades assigned to you is C \")"
   ]
  },
  {
   "cell_type": "markdown",
   "id": "093ab8ca",
   "metadata": {},
   "source": [
    "#### Question .  Implement a program to determine the type of a triangle based on its angles."
   ]
  },
  {
   "cell_type": "code",
   "execution_count": 13,
   "id": "02fc4a77",
   "metadata": {},
   "outputs": [
    {
     "name": "stdout",
     "output_type": "stream",
     "text": [
      "Enter the first angle: 60\n",
      "Enter the second angle: 60\n",
      "Enter the third angle: 60\n",
      "This is an equilateral triangle.\n"
     ]
    }
   ],
   "source": [
    "\n",
    "angle1 = int(input(\"Enter the first angle: \"))\n",
    "angle2 = int(input(\"Enter the second angle: \"))\n",
    "angle3 = int(input(\"Enter the third angle: \"))\n",
    "\n",
    "\n",
    "if angle1 + angle2 + angle3 == 180:\n",
    "    \n",
    "    if angle1 == angle2 == angle3:\n",
    "        print(\"This is an equilateral triangle.\")\n",
    "    elif angle1 == angle2 or angle2 == angle3 or angle1 == angle3:\n",
    "        print(\"This is an isosceles triangle.\")\n",
    "    else:\n",
    "        print(\"This is a scalene triangle.\")\n",
    "else:\n",
    "    print(\"These angles do not form a valid triangle.\")\n"
   ]
  },
  {
   "cell_type": "markdown",
   "id": "5d2ef3d9",
   "metadata": {},
   "source": [
    "#### Question . Create a program that sorts three numbers in decending order using conditional statements."
   ]
  },
  {
   "cell_type": "code",
   "execution_count": 19,
   "id": "6471aa72",
   "metadata": {},
   "outputs": [
    {
     "name": "stdout",
     "output_type": "stream",
     "text": [
      "Enter the first number : 10\n",
      "Enter the second number : 20\n",
      "Enter the third number : 30\n",
      "The decending order is  (30, 20, 10)\n"
     ]
    }
   ],
   "source": [
    "Num1 = int(input(\"Enter the first number : \"))\n",
    "Num2 = int(input(\"Enter the second number : \"))\n",
    "Num3 = int(input(\"Enter the third number : \"))\n",
    "if (Num1<Num2<Num3):\n",
    "    Decending_order = Num3 , Num2 , Num1\n",
    "elif(Num1<Num3<Num2):\n",
    "    Decending_order = Num2 , Num3 , Num1\n",
    "elif(Num3<Num2<Num1):\n",
    "    Decending_order = Num1 , Num2 , Num3\n",
    "elif(Num2<Num3<Num1):\n",
    "    Decending_order = Num1 , Num3 , Num2\n",
    "elif(Num3<Num1<Num2):\n",
    "    Decending_order = Num2 , Num1 , Num3\n",
    "else:\n",
    "    Decending_order = Num3 , Num1 , Num2\n",
    "\n",
    "print(\"The decending order is \", Decending_order)    "
   ]
  },
  {
   "cell_type": "markdown",
   "id": "1e2622f7",
   "metadata": {},
   "source": [
    "#### Question . Develop a program that determines whether a given year is a prime number or not."
   ]
  },
  {
   "cell_type": "code",
   "execution_count": 9,
   "id": "76637745",
   "metadata": {},
   "outputs": [
    {
     "name": "stdout",
     "output_type": "stream",
     "text": [
      "Enter a year: 2023\n",
      "2023 is not a prime year.\n"
     ]
    }
   ],
   "source": [
    "year = int(input(\"Enter a year: \"))\n",
    "\n",
    "\n",
    "if year < 2:\n",
    "    is_prime = False\n",
    "else:\n",
    "    is_prime = True\n",
    "    \n",
    "    for i in range(2,year):\n",
    "        if year % i == 0:\n",
    "            is_prime = False\n",
    "            break\n",
    "if is_prime:\n",
    "    print(f\"{year} is a prime year.\")\n",
    "else:\n",
    "    print(f\"{year} is not a prime year.\")\n"
   ]
  },
  {
   "cell_type": "code",
   "execution_count": null,
   "id": "7bcf819e",
   "metadata": {},
   "outputs": [],
   "source": []
  },
  {
   "cell_type": "code",
   "execution_count": null,
   "id": "daf8f139",
   "metadata": {},
   "outputs": [],
   "source": []
  }
 ],
 "metadata": {
  "kernelspec": {
   "display_name": "Python 3 (ipykernel)",
   "language": "python",
   "name": "python3"
  },
  "language_info": {
   "codemirror_mode": {
    "name": "ipython",
    "version": 3
   },
   "file_extension": ".py",
   "mimetype": "text/x-python",
   "name": "python",
   "nbconvert_exporter": "python",
   "pygments_lexer": "ipython3",
   "version": "3.9.17"
  }
 },
 "nbformat": 4,
 "nbformat_minor": 5
}
