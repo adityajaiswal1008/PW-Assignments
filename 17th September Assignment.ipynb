{
 "cells": [
  {
   "cell_type": "markdown",
   "id": "15ecdd30",
   "metadata": {},
   "source": [
    "### For Loop :--"
   ]
  },
  {
   "cell_type": "markdown",
   "id": "c9ae442e",
   "metadata": {},
   "source": [
    "#### Question . Write a Python program to print numbers from 1 to 10 using a for loop.\n"
   ]
  },
  {
   "cell_type": "code",
   "execution_count": 2,
   "id": "950e1dee",
   "metadata": {},
   "outputs": [
    {
     "name": "stdout",
     "output_type": "stream",
     "text": [
      "1 2 3 4 5 6 7 8 9 10 "
     ]
    }
   ],
   "source": [
    "for i in range (1,11):\n",
    "    print(i,end= ' ')"
   ]
  },
  {
   "cell_type": "markdown",
   "id": "a72afc43",
   "metadata": {},
   "source": [
    "#### Question . Write a Python program to calculate the sum of all numbers from 1 to 100 using a for loop.\n"
   ]
  },
  {
   "cell_type": "code",
   "execution_count": 11,
   "id": "55a9399c",
   "metadata": {},
   "outputs": [
    {
     "name": "stdout",
     "output_type": "stream",
     "text": [
      "The sum of numbers are :  5050 "
     ]
    }
   ],
   "source": [
    "sum_num = 0\n",
    "for number in range(1,101):\n",
    "    sum_num= sum_num + number\n",
    "print(\"The sum of numbers are : \", sum_num,end = ' ')"
   ]
  },
  {
   "cell_type": "markdown",
   "id": "12056b37",
   "metadata": {},
   "source": [
    "#### Question . Write a Python program to find the product of all elements in a list using a for loop."
   ]
  },
  {
   "cell_type": "code",
   "execution_count": 16,
   "id": "f3954f58",
   "metadata": {},
   "outputs": [
    {
     "name": "stdout",
     "output_type": "stream",
     "text": [
      "The product of numbers in list is :  36288\n"
     ]
    }
   ],
   "source": [
    "list1 = [2,4,6,7,9,12]\n",
    "product = 1\n",
    "for i in list1:\n",
    "    product = product * i\n",
    "print( \"The product of numbers in list is : \",product)    "
   ]
  },
  {
   "cell_type": "markdown",
   "id": "35555b3f",
   "metadata": {},
   "source": [
    "#### Question . Create a Python program that prints all even numbers from 1 to 20 using a for loop.\n"
   ]
  },
  {
   "cell_type": "code",
   "execution_count": 19,
   "id": "52714c7e",
   "metadata": {},
   "outputs": [
    {
     "name": "stdout",
     "output_type": "stream",
     "text": [
      "2 4 6 8 10 12 14 16 18 20 "
     ]
    }
   ],
   "source": [
    "for i in range(1,21):\n",
    "    if (i%2==0):\n",
    "        print(i , end = ' ')\n",
    "        "
   ]
  },
  {
   "cell_type": "markdown",
   "id": "9ed9d67f",
   "metadata": {},
   "source": [
    "#### Question . Write a Python program that calculates the factorial of a number using a for loop.\n"
   ]
  },
  {
   "cell_type": "code",
   "execution_count": 22,
   "id": "f7662fb9",
   "metadata": {},
   "outputs": [
    {
     "name": "stdout",
     "output_type": "stream",
     "text": [
      "Enter the number whose factorial you want to calculate :7\n",
      "The factorial of number 7 is 5040 : \n"
     ]
    }
   ],
   "source": [
    "number = int(input(\"Enter the number whose factorial you want to calculate :\"))\n",
    "\n",
    "fact = 1\n",
    "for i in range (1 , number+1):\n",
    "    fact = fact * i\n",
    "print(f\"The factorial of number {number} is {fact} : \" )    "
   ]
  },
  {
   "cell_type": "markdown",
   "id": "7b1b9a6d",
   "metadata": {},
   "source": [
    "#### Question . Write a Python program to find the largest number in a list using a for loop."
   ]
  },
  {
   "cell_type": "code",
   "execution_count": 23,
   "id": "9b8af4b1",
   "metadata": {},
   "outputs": [
    {
     "name": "stdout",
     "output_type": "stream",
     "text": [
      "The largest number in list is :  101\n"
     ]
    }
   ],
   "source": [
    "list2 = [3,6,9,54,34,67,99,101]\n",
    "largest_number = list2[0]\n",
    "\n",
    "for i in list2 :\n",
    "    if i > largest_number:\n",
    "        #then\n",
    "        largest_number = i\n",
    "    \n",
    "print(\"The largest number in list is : \" , largest_number )    \n",
    "    "
   ]
  },
  {
   "cell_type": "markdown",
   "id": "40edf810",
   "metadata": {},
   "source": [
    "#### Question . Create a Python program that prints the Fibonacci sequence up to a specified limit using a for loop."
   ]
  },
  {
   "cell_type": "code",
   "execution_count": 24,
   "id": "879bd06a",
   "metadata": {},
   "outputs": [
    {
     "name": "stdout",
     "output_type": "stream",
     "text": [
      "Enter the specified limit : 10\n",
      "0 1 1 2 3 5 8 "
     ]
    }
   ],
   "source": [
    "limit = int(input(\"Enter the specified limit : \"))\n",
    "\n",
    "a , b = 0 ,1 \n",
    "print(a , end = ' ')\n",
    "print(b , end = ' ')\n",
    "\n",
    "for i in range (2 , limit):\n",
    "    fibonacci = a+b\n",
    "    if fibonacci>= limit:\n",
    "        break\n",
    "    print(fibonacci, end=' ')    \n",
    "    a , b = b , fibonacci\n",
    "        "
   ]
  },
  {
   "cell_type": "markdown",
   "id": "26aea517",
   "metadata": {},
   "source": [
    "#### Question . Write a Python program to count the number of vowels in a given string using a for loop.\n"
   ]
  },
  {
   "cell_type": "code",
   "execution_count": 8,
   "id": "1ce03046",
   "metadata": {},
   "outputs": [
    {
     "name": "stdout",
     "output_type": "stream",
     "text": [
      "Enter the String : PWSKILLS\n",
      "The number of vowels in string is :  1\n"
     ]
    }
   ],
   "source": [
    "String = input(\"Enter the String : \")\n",
    "\n",
    "count = 0\n",
    "vowels = \"AEIOUaeiou\"\n",
    "for char in String:\n",
    "    if char in vowels:\n",
    "        count = count + 1\n",
    "        \n",
    "        \n",
    "print(\"The number of vowels in string is : \" ,count)    "
   ]
  },
  {
   "cell_type": "markdown",
   "id": "c13a1ee0",
   "metadata": {},
   "source": [
    "#### Question . Create a Python program that generates a multiplication table for a given number using a for loop."
   ]
  },
  {
   "cell_type": "code",
   "execution_count": 9,
   "id": "5bbaf220",
   "metadata": {},
   "outputs": [
    {
     "name": "stdout",
     "output_type": "stream",
     "text": [
      "Enter the number : 5\n",
      "5 x 1 = 5\n",
      "5 x 2 = 10\n",
      "5 x 3 = 15\n",
      "5 x 4 = 20\n",
      "5 x 5 = 25\n",
      "5 x 6 = 30\n",
      "5 x 7 = 35\n",
      "5 x 8 = 40\n",
      "5 x 9 = 45\n",
      "5 x 10 = 50\n"
     ]
    }
   ],
   "source": [
    "num = int(input(\"Enter the number : \"))\n",
    "product = 1\n",
    "for i in range (1,11):\n",
    "    product = num * i\n",
    "    print(f\"{num} x {i} = {product}\")\n",
    "    "
   ]
  },
  {
   "cell_type": "markdown",
   "id": "41caff71",
   "metadata": {},
   "source": [
    "#### Question . Write a Python program to reverse a list using a for loop."
   ]
  },
  {
   "cell_type": "code",
   "execution_count": 16,
   "id": "bc113c7f",
   "metadata": {},
   "outputs": [
    {
     "name": "stdout",
     "output_type": "stream",
     "text": [
      "Original list: [1, 2, 3, 4, 5, 6, 7, 8, 9, 10]\n",
      "Reversed list: [10, 9, 8, 7, 6, 5, 4, 3, 2, 1]\n"
     ]
    }
   ],
   "source": [
    "My_list = [1,2,3,4,5,6,7,8,9,10]\n",
    "\n",
    "reversed_list = []\n",
    "\n",
    "for item in reversed(My_list):\n",
    "    reversed_list.append(item)\n",
    "\n",
    "print(\"Original list:\", My_list)\n",
    "print(\"Reversed list:\", reversed_list)\n"
   ]
  },
  {
   "cell_type": "markdown",
   "id": "e233d5a6",
   "metadata": {},
   "source": [
    "#### Question . Write a Python program to find the common elements between two lists using a for loop.\n"
   ]
  },
  {
   "cell_type": "code",
   "execution_count": 18,
   "id": "45c945df",
   "metadata": {},
   "outputs": [
    {
     "name": "stdout",
     "output_type": "stream",
     "text": [
      "The common element of both list is :  [23, 1, 89, 45]\n"
     ]
    }
   ],
   "source": [
    "list1 = [23,3,47,1,2,89,45]\n",
    "list2 = [6,7,23,45,98,89,1,27]\n",
    "common_element = []\n",
    "for item in list1:\n",
    "    if item in list2:\n",
    "        common_element.append(item)\n",
    "print(\"The common element of both list is : \", common_element)        "
   ]
  },
  {
   "cell_type": "markdown",
   "id": "9646ad09",
   "metadata": {},
   "source": [
    "## If - Else Conditions --"
   ]
  },
  {
   "cell_type": "markdown",
   "id": "4dbdba0f",
   "metadata": {},
   "source": [
    "#### Question . Write a Python program to determine if a given number is prime or not using if-else"
   ]
  },
  {
   "cell_type": "code",
   "execution_count": 3,
   "id": "1800ea89",
   "metadata": {},
   "outputs": [
    {
     "name": "stdout",
     "output_type": "stream",
     "text": [
      "Enter the number greater than 1 : 4\n",
      "4 is not a prime number\n"
     ]
    }
   ],
   "source": [
    "num1 = int(input(\"Enter the number greater than 1 : \"))\n",
    "for i in range(2, num1):\n",
    "    if (num1 % i) == 0:\n",
    "        print(num1, \"is not a prime number\")\n",
    "        break\n",
    "else:\n",
    "    print(num1, \"is a prime number\")"
   ]
  },
  {
   "cell_type": "markdown",
   "id": "032394fc",
   "metadata": {},
   "source": [
    "#### Question . Write a Python program to determine if a given number is a perfect square using if-else.\n"
   ]
  },
  {
   "cell_type": "code",
   "execution_count": 4,
   "id": "0d66ed5c",
   "metadata": {},
   "outputs": [
    {
     "name": "stdout",
     "output_type": "stream",
     "text": [
      "Enter the number : 64\n",
      "64 is a perfect square.\n"
     ]
    }
   ],
   "source": [
    "num1 = int(input(\"Enter the number : \"))\n",
    "\n",
    "sqrt_num = int(num1 ** 0.5)\n",
    "\n",
    "if sqrt_num * sqrt_num == num1:\n",
    "    print(num1, \"is a perfect square.\")\n",
    "else:\n",
    "    print(num1, \"is not a perfect square.\")\n"
   ]
  },
  {
   "cell_type": "markdown",
   "id": "7ebe64a5",
   "metadata": {},
   "source": [
    "#### Question . Create a Python program that checks if a given year is a leap year using both if-else and a function."
   ]
  },
  {
   "cell_type": "code",
   "execution_count": 6,
   "id": "68e48976",
   "metadata": {},
   "outputs": [
    {
     "name": "stdout",
     "output_type": "stream",
     "text": [
      "Enter the year : 2009\n",
      "The year is not a leap year \n"
     ]
    }
   ],
   "source": [
    "Year = int(input(\"Enter the year : \"))\n",
    "if (Year%4 == 0):\n",
    "    print(\"The year is leap year \")\n",
    "else:\n",
    "    print(\"The year is not a leap year \")"
   ]
  },
  {
   "cell_type": "markdown",
   "id": "bfecb44a",
   "metadata": {},
   "source": [
    " #### Question . Create a Python program that checks if a given year is a leap year using both if-else and a function."
   ]
  },
  {
   "cell_type": "code",
   "execution_count": 7,
   "id": "ee6ce40d",
   "metadata": {},
   "outputs": [
    {
     "name": "stdout",
     "output_type": "stream",
     "text": [
      "Enter a year: 2024\n",
      "2024 is a leap year.\n"
     ]
    }
   ],
   "source": [
    "def is_leap_year(year):\n",
    "    if (year % 4 == 0 and year % 100 != 0) or (year % 400 == 0):\n",
    "        return True\n",
    "    else:\n",
    "        return False\n",
    "year = int(input(\"Enter a year: \"))\n",
    "\n",
    "if is_leap_year(year):\n",
    "    print(year, \"is a leap year.\")\n",
    "else:\n",
    "    print(year, \"is not a leap year.\")\n"
   ]
  },
  {
   "cell_type": "markdown",
   "id": "37d537af",
   "metadata": {},
   "source": [
    "#### Question . Write a Python program to check if a number is positive, negative, or zero using an if-else statement."
   ]
  },
  {
   "cell_type": "code",
   "execution_count": 8,
   "id": "0972ecb8",
   "metadata": {},
   "outputs": [
    {
     "name": "stdout",
     "output_type": "stream",
     "text": [
      "Enter the number :  67\n",
      "Number is Positive\n"
     ]
    }
   ],
   "source": [
    "Number = int( input(\"Enter the number :  \"))\n",
    "if (Number>=0):\n",
    "    if (Number == 0):\n",
    "        print(\"Number is Zero\")\n",
    "    else: \n",
    "        print(\"Number is Positive\")\n",
    "else:\n",
    "    print(\"Number is Negative\")"
   ]
  },
  {
   "cell_type": "markdown",
   "id": "4b0b5395",
   "metadata": {},
   "source": [
    "### Map Questions --"
   ]
  },
  {
   "cell_type": "code",
   "execution_count": null,
   "id": "d7f9a2fa",
   "metadata": {},
   "outputs": [],
   "source": []
  }
 ],
 "metadata": {
  "kernelspec": {
   "display_name": "Python 3 (ipykernel)",
   "language": "python",
   "name": "python3"
  },
  "language_info": {
   "codemirror_mode": {
    "name": "ipython",
    "version": 3
   },
   "file_extension": ".py",
   "mimetype": "text/x-python",
   "name": "python",
   "nbconvert_exporter": "python",
   "pygments_lexer": "ipython3",
   "version": "3.9.17"
  }
 },
 "nbformat": 4,
 "nbformat_minor": 5
}
