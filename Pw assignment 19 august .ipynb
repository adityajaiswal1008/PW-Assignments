{
 "cells": [
  {
   "cell_type": "markdown",
   "id": "56fb1504",
   "metadata": {},
   "source": [
    "# Python Basic Variable"
   ]
  },
  {
   "cell_type": "markdown",
   "id": "3f8d014b",
   "metadata": {},
   "source": [
    "## Code 1 , Swapping of two variable"
   ]
  },
  {
   "cell_type": "code",
   "execution_count": 10,
   "id": "34c794a2",
   "metadata": {},
   "outputs": [
    {
     "name": "stdout",
     "output_type": "stream",
     "text": [
      "Swapped values are\n",
      "x =  20\n",
      "y =  10\n"
     ]
    }
   ],
   "source": [
    "x = 10\n",
    "y = 20\n",
    "x = x + y\n",
    "y = x - y\n",
    "x = x - y\n",
    "print(\"Swapped values are\")\n",
    "print(\"x = \", x)\n",
    "print(\"y = \", y)"
   ]
  },
  {
   "cell_type": "markdown",
   "id": "c3d47c50",
   "metadata": {},
   "source": [
    "## Code 2, Calculating area of Rectangle"
   ]
  },
  {
   "cell_type": "code",
   "execution_count": 12,
   "id": "de05918e",
   "metadata": {},
   "outputs": [
    {
     "name": "stdout",
     "output_type": "stream",
     "text": [
      "Enter the length of the rectangle: 56.3\n",
      "Enter the width of the rectangle: 48.6\n",
      "The area of the rectangle is: 2736.18\n"
     ]
    }
   ],
   "source": [
    "# Taking input of lenght and width\n",
    "length = float(input(\"Enter the length of the rectangle: \"))\n",
    "width = float(input(\"Enter the width of the rectangle: \"))\n",
    "\n",
    "# Calculating the area\n",
    "area = length * width\n",
    "\n",
    "# Result\n",
    "print(\"The area of the rectangle is:\", area)"
   ]
  },
  {
   "cell_type": "markdown",
   "id": "a75ed0b8",
   "metadata": {},
   "source": [
    "## Code 3, Celsius to Fahrenheit"
   ]
  },
  {
   "cell_type": "code",
   "execution_count": 14,
   "id": "09d3d7b8",
   "metadata": {},
   "outputs": [
    {
     "name": "stdout",
     "output_type": "stream",
     "text": [
      "Enter temperature in Celsius: 45\n",
      "Temperature in Fahrenheit: 113.0\n"
     ]
    }
   ],
   "source": [
    "# Taking input from user for temperature in Celsius\n",
    "celsius = float(input(\"Enter temperature in Celsius: \"))\n",
    "\n",
    "# Convert Celsius to Fahrenheit\n",
    "# Since 1 celsius is C = 5/9(F-32) ,thus;\n",
    "fahrenheit = (celsius * 9/5) + 32\n",
    "\n",
    "# Result\n",
    "print(\"Temperature in Fahrenheit:\", fahrenheit)"
   ]
  },
  {
   "cell_type": "markdown",
   "id": "65ac7fed",
   "metadata": {},
   "source": [
    "# String Based Questions"
   ]
  },
  {
   "cell_type": "markdown",
   "id": "ec8ccaf1",
   "metadata": {},
   "source": [
    "## Program 1"
   ]
  },
  {
   "cell_type": "code",
   "execution_count": 16,
   "id": "1434a883",
   "metadata": {},
   "outputs": [
    {
     "name": "stdout",
     "output_type": "stream",
     "text": [
      "Enter a string: My Name Is Aditya\n",
      "The length of the string is: 17\n"
     ]
    }
   ],
   "source": [
    "# Taking input from user\n",
    "input_str = input(\"Enter a string: \")\n",
    "\n",
    "# Calculate and display the length of the string\n",
    "length = len(input_str)\n",
    "print(\"The length of the string is:\", length)\n"
   ]
  },
  {
   "cell_type": "markdown",
   "id": "44ab89fa",
   "metadata": {},
   "source": [
    "## Program 2"
   ]
  },
  {
   "cell_type": "code",
   "execution_count": 10,
   "id": "95f0f8d2",
   "metadata": {},
   "outputs": [
    {
     "name": "stdout",
     "output_type": "stream",
     "text": [
      "Enter a sentence: My name is Aditya\n",
      "Number of vowels: 6\n"
     ]
    }
   ],
   "source": [
    "# Taking input from the user\n",
    "Character = input(\"Enter a sentence: \")\n",
    "\n",
    "# Initialize a count variable for vowels\n",
    "vowel_count = 0\n",
    "\n",
    "for char in Character:\n",
    "    if char.lower() in 'aeiou':\n",
    "        vowel_count += 1\n",
    "\n",
    "# Print the vowel count\n",
    "print(\"Number of vowels:\", vowel_count)\n"
   ]
  },
  {
   "cell_type": "markdown",
   "id": "04668b1c",
   "metadata": {},
   "source": [
    "## Program 3"
   ]
  },
  {
   "cell_type": "code",
   "execution_count": 14,
   "id": "223ba2a9",
   "metadata": {},
   "outputs": [
    {
     "name": "stdout",
     "output_type": "stream",
     "text": [
      "Enter a string: Hello Everyone\n",
      "Reversed string: enoyrevE olleH\n"
     ]
    }
   ],
   "source": [
    "# Take input from user\n",
    "original_string = input(\"Enter a string: \")\n",
    "\n",
    "# Reversing the string by slicing\n",
    "reversed_string = original_string[::-1]\n",
    "\n",
    "# Print the reversed string\n",
    "print(\"Reversed string:\", reversed_string)\n"
   ]
  },
  {
   "cell_type": "markdown",
   "id": "0c5a1a63",
   "metadata": {},
   "source": [
    "## Program 4"
   ]
  },
  {
   "cell_type": "code",
   "execution_count": 24,
   "id": "2f3bd761",
   "metadata": {},
   "outputs": [
    {
     "name": "stdout",
     "output_type": "stream",
     "text": [
      "Enter a string: Radar\n",
      "The input is a palindrome.\n"
     ]
    }
   ],
   "source": [
    "# Taking input from user\n",
    "input_string = input(\"Enter a string: \")\n",
    "\n",
    "# Remove spaces and convert to lowercase for case-insensitive comparison\n",
    "new_string = input_string.replace(\" \", \"\").lower()\n",
    "\n",
    "# Reverse the new string\n",
    "reversed_string = new_string[::-1]\n",
    "\n",
    "# Check if the original and reversed strings are the same\n",
    "if new_string == reversed_string:\n",
    "    print(\"The input is a palindrome.\")\n",
    "else:\n",
    "    print(\"The input is not a palindrome.\")\n"
   ]
  },
  {
   "cell_type": "markdown",
   "id": "4bc0efef",
   "metadata": {},
   "source": [
    "## Program 5"
   ]
  },
  {
   "cell_type": "code",
   "execution_count": 26,
   "id": "02d1eb57",
   "metadata": {},
   "outputs": [
    {
     "name": "stdout",
     "output_type": "stream",
     "text": [
      "Enter a string: My name is Aditya\n",
      "Modified string: MynameisAditya\n"
     ]
    }
   ],
   "source": [
    "# Taking input from user\n",
    "User_string = input(\"Enter a string: \")\n",
    "\n",
    "# Removing the spaces\n",
    "new_string = User_string.replace(\" \", \"\")\n",
    "\n",
    "# Print the modified string without spaces\n",
    "print(\"Modified string:\", new_string)\n"
   ]
  },
  {
   "cell_type": "code",
   "execution_count": null,
   "id": "ab6814ea",
   "metadata": {},
   "outputs": [],
   "source": []
  }
 ],
 "metadata": {
  "kernelspec": {
   "display_name": "Python 3 (ipykernel)",
   "language": "python",
   "name": "python3"
  },
  "language_info": {
   "codemirror_mode": {
    "name": "ipython",
    "version": 3
   },
   "file_extension": ".py",
   "mimetype": "text/x-python",
   "name": "python",
   "nbconvert_exporter": "python",
   "pygments_lexer": "ipython3",
   "version": "3.9.17"
  }
 },
 "nbformat": 4,
 "nbformat_minor": 5
}
